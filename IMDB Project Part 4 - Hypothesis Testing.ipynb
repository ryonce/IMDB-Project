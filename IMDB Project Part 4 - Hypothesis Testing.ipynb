{
 "cells": [
  {
   "cell_type": "markdown",
   "id": "537ebe6b",
   "metadata": {},
   "source": [
    "# Hypothesis Testing\n",
    "\n",
    "- Robert Yonce\n",
    "- 5/17/23"
   ]
  },
  {
   "cell_type": "markdown",
   "id": "e8cb76dd",
   "metadata": {},
   "source": [
    "# Imports"
   ]
  },
  {
   "cell_type": "code",
   "execution_count": 1,
   "id": "82b39a02",
   "metadata": {},
   "outputs": [],
   "source": [
    "import pandas as pd\n",
    "import numpy as np\n",
    "import matplotlib.pyplot as plt\n",
    "import seaborn as sns\n",
    "import scipy.stats as stats\n"
   ]
  },
  {
   "cell_type": "code",
   "execution_count": 2,
   "id": "3d62e878",
   "metadata": {},
   "outputs": [
    {
     "data": {
      "text/html": [
       "<div>\n",
       "<style scoped>\n",
       "    .dataframe tbody tr th:only-of-type {\n",
       "        vertical-align: middle;\n",
       "    }\n",
       "\n",
       "    .dataframe tbody tr th {\n",
       "        vertical-align: top;\n",
       "    }\n",
       "\n",
       "    .dataframe thead th {\n",
       "        text-align: right;\n",
       "    }\n",
       "</style>\n",
       "<table border=\"1\" class=\"dataframe\">\n",
       "  <thead>\n",
       "    <tr style=\"text-align: right;\">\n",
       "      <th></th>\n",
       "      <th>imdb_id</th>\n",
       "      <th>adult</th>\n",
       "      <th>backdrop_path</th>\n",
       "      <th>belongs_to_collection</th>\n",
       "      <th>budget</th>\n",
       "      <th>genres</th>\n",
       "      <th>homepage</th>\n",
       "      <th>id</th>\n",
       "      <th>original_language</th>\n",
       "      <th>original_title</th>\n",
       "      <th>...</th>\n",
       "      <th>revenue</th>\n",
       "      <th>runtime</th>\n",
       "      <th>spoken_languages</th>\n",
       "      <th>status</th>\n",
       "      <th>tagline</th>\n",
       "      <th>title</th>\n",
       "      <th>video</th>\n",
       "      <th>vote_average</th>\n",
       "      <th>vote_count</th>\n",
       "      <th>certification</th>\n",
       "    </tr>\n",
       "  </thead>\n",
       "  <tbody>\n",
       "    <tr>\n",
       "      <th>0</th>\n",
       "      <td>tt0113026</td>\n",
       "      <td>0.0</td>\n",
       "      <td>/vMFs7nw6P0bIV1jDsQpxAieAVnH.jpg</td>\n",
       "      <td>NaN</td>\n",
       "      <td>10000000.0</td>\n",
       "      <td>[{'id': 35, 'name': 'Comedy'}, {'id': 10402, '...</td>\n",
       "      <td>NaN</td>\n",
       "      <td>62127.0</td>\n",
       "      <td>en</td>\n",
       "      <td>The Fantasticks</td>\n",
       "      <td>...</td>\n",
       "      <td>0.0</td>\n",
       "      <td>86.0</td>\n",
       "      <td>[{'english_name': 'English', 'iso_639_1': 'en'...</td>\n",
       "      <td>Released</td>\n",
       "      <td>Try to remember the first time magic happened</td>\n",
       "      <td>The Fantasticks</td>\n",
       "      <td>0.0</td>\n",
       "      <td>5.500</td>\n",
       "      <td>22.0</td>\n",
       "      <td>NaN</td>\n",
       "    </tr>\n",
       "    <tr>\n",
       "      <th>1</th>\n",
       "      <td>tt0118694</td>\n",
       "      <td>0.0</td>\n",
       "      <td>/n4GJFGzsc7NinI1VeGDXIcQjtU2.jpg</td>\n",
       "      <td>NaN</td>\n",
       "      <td>150000.0</td>\n",
       "      <td>[{'id': 18, 'name': 'Drama'}, {'id': 10749, 'n...</td>\n",
       "      <td>NaN</td>\n",
       "      <td>843.0</td>\n",
       "      <td>cn</td>\n",
       "      <td>花樣年華</td>\n",
       "      <td>...</td>\n",
       "      <td>12854953.0</td>\n",
       "      <td>99.0</td>\n",
       "      <td>[{'english_name': 'Cantonese', 'iso_639_1': 'c...</td>\n",
       "      <td>Released</td>\n",
       "      <td>Feel the heat, keep the feeling burning, let t...</td>\n",
       "      <td>In the Mood for Love</td>\n",
       "      <td>0.0</td>\n",
       "      <td>8.115</td>\n",
       "      <td>2191.0</td>\n",
       "      <td>PG</td>\n",
       "    </tr>\n",
       "    <tr>\n",
       "      <th>2</th>\n",
       "      <td>tt0119273</td>\n",
       "      <td>0.0</td>\n",
       "      <td>/f5C03doOWiauu37bToKXtpgP5bS.jpg</td>\n",
       "      <td>{'id': 141086, 'name': 'Heavy Metal Collection...</td>\n",
       "      <td>15000000.0</td>\n",
       "      <td>[{'id': 28, 'name': 'Action'}, {'id': 12, 'nam...</td>\n",
       "      <td>NaN</td>\n",
       "      <td>16225.0</td>\n",
       "      <td>en</td>\n",
       "      <td>Heavy Metal 2000</td>\n",
       "      <td>...</td>\n",
       "      <td>0.0</td>\n",
       "      <td>88.0</td>\n",
       "      <td>[{'english_name': 'English', 'iso_639_1': 'en'...</td>\n",
       "      <td>Released</td>\n",
       "      <td>not to survive the fight in the external world...</td>\n",
       "      <td>Heavy Metal 2000</td>\n",
       "      <td>0.0</td>\n",
       "      <td>6.092</td>\n",
       "      <td>180.0</td>\n",
       "      <td>R</td>\n",
       "    </tr>\n",
       "    <tr>\n",
       "      <th>3</th>\n",
       "      <td>tt0120263</td>\n",
       "      <td>0.0</td>\n",
       "      <td>/ynXVuylP8upazjz8lrqb1PEMkdR.jpg</td>\n",
       "      <td>NaN</td>\n",
       "      <td>0.0</td>\n",
       "      <td>[{'id': 18, 'name': 'Drama'}, {'id': 35, 'name...</td>\n",
       "      <td>NaN</td>\n",
       "      <td>34070.0</td>\n",
       "      <td>sv</td>\n",
       "      <td>Sånger från andra våningen</td>\n",
       "      <td>...</td>\n",
       "      <td>80334.0</td>\n",
       "      <td>98.0</td>\n",
       "      <td>[{'english_name': 'Russian', 'iso_639_1': 'ru'...</td>\n",
       "      <td>Released</td>\n",
       "      <td>NaN</td>\n",
       "      <td>Songs from the Second Floor</td>\n",
       "      <td>0.0</td>\n",
       "      <td>7.166</td>\n",
       "      <td>238.0</td>\n",
       "      <td>NaN</td>\n",
       "    </tr>\n",
       "    <tr>\n",
       "      <th>4</th>\n",
       "      <td>tt0120467</td>\n",
       "      <td>0.0</td>\n",
       "      <td>/knok3mNReKqPTplnnqz7E4dd7mD.jpg</td>\n",
       "      <td>NaN</td>\n",
       "      <td>120000.0</td>\n",
       "      <td>[{'id': 18, 'name': 'Drama'}, {'id': 27, 'name...</td>\n",
       "      <td>NaN</td>\n",
       "      <td>19085.0</td>\n",
       "      <td>en</td>\n",
       "      <td>Vulgar</td>\n",
       "      <td>...</td>\n",
       "      <td>14904.0</td>\n",
       "      <td>87.0</td>\n",
       "      <td>[{'english_name': 'English', 'iso_639_1': 'en'...</td>\n",
       "      <td>Released</td>\n",
       "      <td>Everyone loves a clown... some more than others.</td>\n",
       "      <td>Vulgar</td>\n",
       "      <td>0.0</td>\n",
       "      <td>5.500</td>\n",
       "      <td>44.0</td>\n",
       "      <td>R</td>\n",
       "    </tr>\n",
       "  </tbody>\n",
       "</table>\n",
       "<p>5 rows × 26 columns</p>\n",
       "</div>"
      ],
      "text/plain": [
       "     imdb_id  adult                     backdrop_path  \\\n",
       "0  tt0113026    0.0  /vMFs7nw6P0bIV1jDsQpxAieAVnH.jpg   \n",
       "1  tt0118694    0.0  /n4GJFGzsc7NinI1VeGDXIcQjtU2.jpg   \n",
       "2  tt0119273    0.0  /f5C03doOWiauu37bToKXtpgP5bS.jpg   \n",
       "3  tt0120263    0.0  /ynXVuylP8upazjz8lrqb1PEMkdR.jpg   \n",
       "4  tt0120467    0.0  /knok3mNReKqPTplnnqz7E4dd7mD.jpg   \n",
       "\n",
       "                               belongs_to_collection      budget  \\\n",
       "0                                                NaN  10000000.0   \n",
       "1                                                NaN    150000.0   \n",
       "2  {'id': 141086, 'name': 'Heavy Metal Collection...  15000000.0   \n",
       "3                                                NaN         0.0   \n",
       "4                                                NaN    120000.0   \n",
       "\n",
       "                                              genres homepage       id  \\\n",
       "0  [{'id': 35, 'name': 'Comedy'}, {'id': 10402, '...      NaN  62127.0   \n",
       "1  [{'id': 18, 'name': 'Drama'}, {'id': 10749, 'n...      NaN    843.0   \n",
       "2  [{'id': 28, 'name': 'Action'}, {'id': 12, 'nam...      NaN  16225.0   \n",
       "3  [{'id': 18, 'name': 'Drama'}, {'id': 35, 'name...      NaN  34070.0   \n",
       "4  [{'id': 18, 'name': 'Drama'}, {'id': 27, 'name...      NaN  19085.0   \n",
       "\n",
       "  original_language              original_title  ...     revenue  runtime  \\\n",
       "0                en             The Fantasticks  ...         0.0     86.0   \n",
       "1                cn                        花樣年華  ...  12854953.0     99.0   \n",
       "2                en            Heavy Metal 2000  ...         0.0     88.0   \n",
       "3                sv  Sånger från andra våningen  ...     80334.0     98.0   \n",
       "4                en                      Vulgar  ...     14904.0     87.0   \n",
       "\n",
       "                                    spoken_languages    status  \\\n",
       "0  [{'english_name': 'English', 'iso_639_1': 'en'...  Released   \n",
       "1  [{'english_name': 'Cantonese', 'iso_639_1': 'c...  Released   \n",
       "2  [{'english_name': 'English', 'iso_639_1': 'en'...  Released   \n",
       "3  [{'english_name': 'Russian', 'iso_639_1': 'ru'...  Released   \n",
       "4  [{'english_name': 'English', 'iso_639_1': 'en'...  Released   \n",
       "\n",
       "                                             tagline  \\\n",
       "0      Try to remember the first time magic happened   \n",
       "1  Feel the heat, keep the feeling burning, let t...   \n",
       "2  not to survive the fight in the external world...   \n",
       "3                                                NaN   \n",
       "4   Everyone loves a clown... some more than others.   \n",
       "\n",
       "                         title  video  vote_average vote_count certification  \n",
       "0              The Fantasticks    0.0         5.500       22.0           NaN  \n",
       "1         In the Mood for Love    0.0         8.115     2191.0            PG  \n",
       "2             Heavy Metal 2000    0.0         6.092      180.0             R  \n",
       "3  Songs from the Second Floor    0.0         7.166      238.0           NaN  \n",
       "4                       Vulgar    0.0         5.500       44.0             R  \n",
       "\n",
       "[5 rows x 26 columns]"
      ]
     },
     "execution_count": 2,
     "metadata": {},
     "output_type": "execute_result"
    }
   ],
   "source": [
    "df = pd.read_csv('tmdb_results_combined.csv.gz')\n",
    "df.head()"
   ]
  },
  {
   "cell_type": "code",
   "execution_count": 3,
   "id": "d1e6e3d5",
   "metadata": {},
   "outputs": [],
   "source": [
    "# Files\n",
    "\n",
    "results_21 = pd.read_csv('data/final_tmdb_data_2021.csv.gz', engine='python')\n",
    "\n",
    "results_20 = pd.read_csv('data/final_tmdb_data_2020.csv.gz', engine='python')\n",
    "\n",
    "results_19 = pd.read_csv('data/final_tmdb_data_2019.csv.gz', engine='python')\n",
    "\n",
    "results_18 = pd.read_csv('data/final_tmdb_data_2018.csv.gz', engine='python')"
   ]
  },
  {
   "cell_type": "code",
   "execution_count": 4,
   "id": "68c155aa",
   "metadata": {},
   "outputs": [
    {
     "data": {
      "text/html": [
       "<div>\n",
       "<style scoped>\n",
       "    .dataframe tbody tr th:only-of-type {\n",
       "        vertical-align: middle;\n",
       "    }\n",
       "\n",
       "    .dataframe tbody tr th {\n",
       "        vertical-align: top;\n",
       "    }\n",
       "\n",
       "    .dataframe thead th {\n",
       "        text-align: right;\n",
       "    }\n",
       "</style>\n",
       "<table border=\"1\" class=\"dataframe\">\n",
       "  <thead>\n",
       "    <tr style=\"text-align: right;\">\n",
       "      <th></th>\n",
       "      <th>tconst</th>\n",
       "      <th>averageRating</th>\n",
       "      <th>numVotes</th>\n",
       "    </tr>\n",
       "  </thead>\n",
       "  <tbody>\n",
       "    <tr>\n",
       "      <th>0</th>\n",
       "      <td>tt0000001</td>\n",
       "      <td>5.7</td>\n",
       "      <td>1965</td>\n",
       "    </tr>\n",
       "    <tr>\n",
       "      <th>1</th>\n",
       "      <td>tt0000002</td>\n",
       "      <td>5.8</td>\n",
       "      <td>263</td>\n",
       "    </tr>\n",
       "    <tr>\n",
       "      <th>2</th>\n",
       "      <td>tt0000005</td>\n",
       "      <td>6.2</td>\n",
       "      <td>2607</td>\n",
       "    </tr>\n",
       "    <tr>\n",
       "      <th>3</th>\n",
       "      <td>tt0000006</td>\n",
       "      <td>5.2</td>\n",
       "      <td>181</td>\n",
       "    </tr>\n",
       "    <tr>\n",
       "      <th>4</th>\n",
       "      <td>tt0000007</td>\n",
       "      <td>5.4</td>\n",
       "      <td>816</td>\n",
       "    </tr>\n",
       "  </tbody>\n",
       "</table>\n",
       "</div>"
      ],
      "text/plain": [
       "      tconst  averageRating  numVotes\n",
       "0  tt0000001            5.7      1965\n",
       "1  tt0000002            5.8       263\n",
       "2  tt0000005            6.2      2607\n",
       "3  tt0000006            5.2       181\n",
       "4  tt0000007            5.4       816"
      ]
     },
     "execution_count": 4,
     "metadata": {},
     "output_type": "execute_result"
    }
   ],
   "source": [
    "df3 = pd.read_csv('data/title_ratings.csv.gz')\n",
    "df3.head()"
   ]
  },
  {
   "cell_type": "markdown",
   "id": "8b4038b4",
   "metadata": {},
   "source": [
    "## DFs"
   ]
  },
  {
   "cell_type": "code",
   "execution_count": 5,
   "id": "d3b80391",
   "metadata": {},
   "outputs": [
    {
     "name": "stdout",
     "output_type": "stream",
     "text": [
      "<class 'pandas.core.frame.DataFrame'>\n",
      "RangeIndex: 637 entries, 0 to 636\n",
      "Data columns (total 4 columns):\n",
      " #   Column         Non-Null Count  Dtype  \n",
      "---  ------         --------------  -----  \n",
      " 0   imdb_id        637 non-null    object \n",
      " 1   revenue        637 non-null    float64\n",
      " 2   budget         637 non-null    float64\n",
      " 3   certification  430 non-null    object \n",
      "dtypes: float64(2), object(2)\n",
      "memory usage: 20.0+ KB\n"
     ]
    }
   ],
   "source": [
    "# Take down to columns I need for Question 1\n",
    "\n",
    "df = df[['imdb_id', 'revenue', 'budget', 'certification']]\n",
    "df.info()"
   ]
  },
  {
   "cell_type": "code",
   "execution_count": 6,
   "id": "f8a175ab",
   "metadata": {},
   "outputs": [
    {
     "data": {
      "text/html": [
       "<div>\n",
       "<style scoped>\n",
       "    .dataframe tbody tr th:only-of-type {\n",
       "        vertical-align: middle;\n",
       "    }\n",
       "\n",
       "    .dataframe tbody tr th {\n",
       "        vertical-align: top;\n",
       "    }\n",
       "\n",
       "    .dataframe thead th {\n",
       "        text-align: right;\n",
       "    }\n",
       "</style>\n",
       "<table border=\"1\" class=\"dataframe\">\n",
       "  <thead>\n",
       "    <tr style=\"text-align: right;\">\n",
       "      <th></th>\n",
       "      <th>imdb_id</th>\n",
       "      <th>adult</th>\n",
       "      <th>backdrop_path</th>\n",
       "      <th>belongs_to_collection</th>\n",
       "      <th>budget</th>\n",
       "      <th>genres</th>\n",
       "      <th>homepage</th>\n",
       "      <th>id</th>\n",
       "      <th>original_language</th>\n",
       "      <th>original_title</th>\n",
       "      <th>...</th>\n",
       "      <th>revenue</th>\n",
       "      <th>runtime</th>\n",
       "      <th>spoken_languages</th>\n",
       "      <th>status</th>\n",
       "      <th>tagline</th>\n",
       "      <th>title</th>\n",
       "      <th>video</th>\n",
       "      <th>vote_average</th>\n",
       "      <th>vote_count</th>\n",
       "      <th>certification</th>\n",
       "    </tr>\n",
       "  </thead>\n",
       "  <tbody>\n",
       "    <tr>\n",
       "      <th>0</th>\n",
       "      <td>0</td>\n",
       "      <td>NaN</td>\n",
       "      <td>NaN</td>\n",
       "      <td>NaN</td>\n",
       "      <td>NaN</td>\n",
       "      <td>NaN</td>\n",
       "      <td>NaN</td>\n",
       "      <td>NaN</td>\n",
       "      <td>NaN</td>\n",
       "      <td>NaN</td>\n",
       "      <td>...</td>\n",
       "      <td>NaN</td>\n",
       "      <td>NaN</td>\n",
       "      <td>NaN</td>\n",
       "      <td>NaN</td>\n",
       "      <td>NaN</td>\n",
       "      <td>NaN</td>\n",
       "      <td>NaN</td>\n",
       "      <td>NaN</td>\n",
       "      <td>NaN</td>\n",
       "      <td>NaN</td>\n",
       "    </tr>\n",
       "    <tr>\n",
       "      <th>1</th>\n",
       "      <td>tt0199602</td>\n",
       "      <td>0.0</td>\n",
       "      <td>/fOnjxCbR3Poar7voHcaQrvYqQMH.jpg</td>\n",
       "      <td>NaN</td>\n",
       "      <td>0.0</td>\n",
       "      <td>[{'id': 35, 'name': 'Comedy'}]</td>\n",
       "      <td>NaN</td>\n",
       "      <td>894346.0</td>\n",
       "      <td>en</td>\n",
       "      <td>Holy Hollywood</td>\n",
       "      <td>...</td>\n",
       "      <td>0.0</td>\n",
       "      <td>82.0</td>\n",
       "      <td>[]</td>\n",
       "      <td>Released</td>\n",
       "      <td>NaN</td>\n",
       "      <td>Holy Hollywood</td>\n",
       "      <td>0.0</td>\n",
       "      <td>0.000</td>\n",
       "      <td>0.0</td>\n",
       "      <td>NaN</td>\n",
       "    </tr>\n",
       "    <tr>\n",
       "      <th>2</th>\n",
       "      <td>tt0293429</td>\n",
       "      <td>0.0</td>\n",
       "      <td>/9yBVqNruk6Ykrwc32qrK2TIE5xw.jpg</td>\n",
       "      <td>{'id': 931431, 'name': 'Mortal Kombat (Reboot)...</td>\n",
       "      <td>20000000.0</td>\n",
       "      <td>[{'id': 28, 'name': 'Action'}, {'id': 14, 'nam...</td>\n",
       "      <td>https://www.mortalkombatmovie.net</td>\n",
       "      <td>460465.0</td>\n",
       "      <td>en</td>\n",
       "      <td>Mortal Kombat</td>\n",
       "      <td>...</td>\n",
       "      <td>84426031.0</td>\n",
       "      <td>110.0</td>\n",
       "      <td>[{'english_name': 'Japanese', 'iso_639_1': 'ja...</td>\n",
       "      <td>Released</td>\n",
       "      <td>Get over here.</td>\n",
       "      <td>Mortal Kombat</td>\n",
       "      <td>0.0</td>\n",
       "      <td>7.096</td>\n",
       "      <td>5224.0</td>\n",
       "      <td>R</td>\n",
       "    </tr>\n",
       "    <tr>\n",
       "      <th>3</th>\n",
       "      <td>tt0499097</td>\n",
       "      <td>0.0</td>\n",
       "      <td>/fPGeS6jgdLovQAKunNHX8l0avCy.jpg</td>\n",
       "      <td>NaN</td>\n",
       "      <td>0.0</td>\n",
       "      <td>[{'id': 12, 'name': 'Adventure'}, {'id': 28, '...</td>\n",
       "      <td>https://www.amazon.com/dp/B08VFD1Y3B</td>\n",
       "      <td>567189.0</td>\n",
       "      <td>en</td>\n",
       "      <td>Tom Clancy's Without Remorse</td>\n",
       "      <td>...</td>\n",
       "      <td>0.0</td>\n",
       "      <td>109.0</td>\n",
       "      <td>[{'english_name': 'English', 'iso_639_1': 'en'...</td>\n",
       "      <td>Released</td>\n",
       "      <td>From the author of Rainbow Six.</td>\n",
       "      <td>Tom Clancy's Without Remorse</td>\n",
       "      <td>0.0</td>\n",
       "      <td>7.039</td>\n",
       "      <td>2166.0</td>\n",
       "      <td>R</td>\n",
       "    </tr>\n",
       "    <tr>\n",
       "      <th>4</th>\n",
       "      <td>tt0870154</td>\n",
       "      <td>0.0</td>\n",
       "      <td>/7WJjFviFBffEJvkAms4uWwbcVUk.jpg</td>\n",
       "      <td>{'id': 861429, 'name': 'Jungle Cruise Collecti...</td>\n",
       "      <td>200000000.0</td>\n",
       "      <td>[{'id': 28, 'name': 'Action'}, {'id': 12, 'nam...</td>\n",
       "      <td>https://movies.disney.com/jungle-cruise</td>\n",
       "      <td>451048.0</td>\n",
       "      <td>en</td>\n",
       "      <td>Jungle Cruise</td>\n",
       "      <td>...</td>\n",
       "      <td>220889446.0</td>\n",
       "      <td>127.0</td>\n",
       "      <td>[{'english_name': 'English', 'iso_639_1': 'en'...</td>\n",
       "      <td>Released</td>\n",
       "      <td>NaN</td>\n",
       "      <td>Jungle Cruise</td>\n",
       "      <td>0.0</td>\n",
       "      <td>7.445</td>\n",
       "      <td>4973.0</td>\n",
       "      <td>PG-13</td>\n",
       "    </tr>\n",
       "  </tbody>\n",
       "</table>\n",
       "<p>5 rows × 26 columns</p>\n",
       "</div>"
      ],
      "text/plain": [
       "     imdb_id  adult                     backdrop_path  \\\n",
       "0          0    NaN                               NaN   \n",
       "1  tt0199602    0.0  /fOnjxCbR3Poar7voHcaQrvYqQMH.jpg   \n",
       "2  tt0293429    0.0  /9yBVqNruk6Ykrwc32qrK2TIE5xw.jpg   \n",
       "3  tt0499097    0.0  /fPGeS6jgdLovQAKunNHX8l0avCy.jpg   \n",
       "4  tt0870154    0.0  /7WJjFviFBffEJvkAms4uWwbcVUk.jpg   \n",
       "\n",
       "                               belongs_to_collection       budget  \\\n",
       "0                                                NaN          NaN   \n",
       "1                                                NaN          0.0   \n",
       "2  {'id': 931431, 'name': 'Mortal Kombat (Reboot)...   20000000.0   \n",
       "3                                                NaN          0.0   \n",
       "4  {'id': 861429, 'name': 'Jungle Cruise Collecti...  200000000.0   \n",
       "\n",
       "                                              genres  \\\n",
       "0                                                NaN   \n",
       "1                     [{'id': 35, 'name': 'Comedy'}]   \n",
       "2  [{'id': 28, 'name': 'Action'}, {'id': 14, 'nam...   \n",
       "3  [{'id': 12, 'name': 'Adventure'}, {'id': 28, '...   \n",
       "4  [{'id': 28, 'name': 'Action'}, {'id': 12, 'nam...   \n",
       "\n",
       "                                  homepage        id original_language  \\\n",
       "0                                      NaN       NaN               NaN   \n",
       "1                                      NaN  894346.0                en   \n",
       "2        https://www.mortalkombatmovie.net  460465.0                en   \n",
       "3     https://www.amazon.com/dp/B08VFD1Y3B  567189.0                en   \n",
       "4  https://movies.disney.com/jungle-cruise  451048.0                en   \n",
       "\n",
       "                 original_title  ...      revenue runtime  \\\n",
       "0                           NaN  ...          NaN     NaN   \n",
       "1                Holy Hollywood  ...          0.0    82.0   \n",
       "2                 Mortal Kombat  ...   84426031.0   110.0   \n",
       "3  Tom Clancy's Without Remorse  ...          0.0   109.0   \n",
       "4                 Jungle Cruise  ...  220889446.0   127.0   \n",
       "\n",
       "                                    spoken_languages    status  \\\n",
       "0                                                NaN       NaN   \n",
       "1                                                 []  Released   \n",
       "2  [{'english_name': 'Japanese', 'iso_639_1': 'ja...  Released   \n",
       "3  [{'english_name': 'English', 'iso_639_1': 'en'...  Released   \n",
       "4  [{'english_name': 'English', 'iso_639_1': 'en'...  Released   \n",
       "\n",
       "                           tagline                         title  video  \\\n",
       "0                              NaN                           NaN    NaN   \n",
       "1                              NaN                Holy Hollywood    0.0   \n",
       "2                   Get over here.                 Mortal Kombat    0.0   \n",
       "3  From the author of Rainbow Six.  Tom Clancy's Without Remorse    0.0   \n",
       "4                              NaN                 Jungle Cruise    0.0   \n",
       "\n",
       "   vote_average vote_count certification  \n",
       "0           NaN        NaN           NaN  \n",
       "1         0.000        0.0           NaN  \n",
       "2         7.096     5224.0             R  \n",
       "3         7.039     2166.0             R  \n",
       "4         7.445     4973.0         PG-13  \n",
       "\n",
       "[5 rows x 26 columns]"
      ]
     },
     "execution_count": 6,
     "metadata": {},
     "output_type": "execute_result"
    }
   ],
   "source": [
    "# Combined DFs for question 2\n",
    "\n",
    "frames = [results_21, results_20, results_19, results_18]\n",
    "\n",
    "df4 = pd.concat(frames)\n",
    "df4.head()"
   ]
  },
  {
   "cell_type": "code",
   "execution_count": 7,
   "id": "2ca12331",
   "metadata": {},
   "outputs": [
    {
     "name": "stdout",
     "output_type": "stream",
     "text": [
      "<class 'pandas.core.frame.DataFrame'>\n",
      "Int64Index: 17488 entries, 0 to 4676\n",
      "Data columns (total 4 columns):\n",
      " #   Column         Non-Null Count  Dtype  \n",
      "---  ------         --------------  -----  \n",
      " 0   imdb_id        17488 non-null  object \n",
      " 1   revenue        17459 non-null  float64\n",
      " 2   budget         17471 non-null  object \n",
      " 3   certification  3196 non-null   object \n",
      "dtypes: float64(1), object(3)\n",
      "memory usage: 683.1+ KB\n"
     ]
    }
   ],
   "source": [
    "# To the columns I need\n",
    "\n",
    "df4 = df4[['imdb_id', 'revenue', 'budget', 'certification']]\n",
    "df4.info()"
   ]
  },
  {
   "cell_type": "code",
   "execution_count": 8,
   "id": "a2087feb",
   "metadata": {},
   "outputs": [
    {
     "data": {
      "text/html": [
       "<div>\n",
       "<style scoped>\n",
       "    .dataframe tbody tr th:only-of-type {\n",
       "        vertical-align: middle;\n",
       "    }\n",
       "\n",
       "    .dataframe tbody tr th {\n",
       "        vertical-align: top;\n",
       "    }\n",
       "\n",
       "    .dataframe thead th {\n",
       "        text-align: right;\n",
       "    }\n",
       "</style>\n",
       "<table border=\"1\" class=\"dataframe\">\n",
       "  <thead>\n",
       "    <tr style=\"text-align: right;\">\n",
       "      <th></th>\n",
       "      <th>imdb_id</th>\n",
       "      <th>revenue</th>\n",
       "      <th>budget</th>\n",
       "      <th>certification</th>\n",
       "      <th>tconst</th>\n",
       "      <th>averageRating</th>\n",
       "      <th>numVotes</th>\n",
       "    </tr>\n",
       "  </thead>\n",
       "  <tbody>\n",
       "    <tr>\n",
       "      <th>0</th>\n",
       "      <td>tt0199602</td>\n",
       "      <td>0.0</td>\n",
       "      <td>0.0</td>\n",
       "      <td>NaN</td>\n",
       "      <td>tt0199602</td>\n",
       "      <td>6.6</td>\n",
       "      <td>35</td>\n",
       "    </tr>\n",
       "    <tr>\n",
       "      <th>1</th>\n",
       "      <td>tt0293429</td>\n",
       "      <td>84426031.0</td>\n",
       "      <td>20000000.0</td>\n",
       "      <td>R</td>\n",
       "      <td>tt0293429</td>\n",
       "      <td>6.0</td>\n",
       "      <td>179716</td>\n",
       "    </tr>\n",
       "    <tr>\n",
       "      <th>2</th>\n",
       "      <td>tt0499097</td>\n",
       "      <td>0.0</td>\n",
       "      <td>0.0</td>\n",
       "      <td>R</td>\n",
       "      <td>tt0499097</td>\n",
       "      <td>5.8</td>\n",
       "      <td>60719</td>\n",
       "    </tr>\n",
       "    <tr>\n",
       "      <th>3</th>\n",
       "      <td>tt0870154</td>\n",
       "      <td>220889446.0</td>\n",
       "      <td>200000000.0</td>\n",
       "      <td>PG-13</td>\n",
       "      <td>tt0870154</td>\n",
       "      <td>6.6</td>\n",
       "      <td>198156</td>\n",
       "    </tr>\n",
       "    <tr>\n",
       "      <th>4</th>\n",
       "      <td>tt0993840</td>\n",
       "      <td>780000.0</td>\n",
       "      <td>0.0</td>\n",
       "      <td>R</td>\n",
       "      <td>tt0993840</td>\n",
       "      <td>5.7</td>\n",
       "      <td>177425</td>\n",
       "    </tr>\n",
       "  </tbody>\n",
       "</table>\n",
       "</div>"
      ],
      "text/plain": [
       "     imdb_id      revenue       budget certification     tconst  \\\n",
       "0  tt0199602          0.0          0.0           NaN  tt0199602   \n",
       "1  tt0293429   84426031.0   20000000.0             R  tt0293429   \n",
       "2  tt0499097          0.0          0.0             R  tt0499097   \n",
       "3  tt0870154  220889446.0  200000000.0         PG-13  tt0870154   \n",
       "4  tt0993840     780000.0          0.0             R  tt0993840   \n",
       "\n",
       "   averageRating  numVotes  \n",
       "0            6.6        35  \n",
       "1            6.0    179716  \n",
       "2            5.8     60719  \n",
       "3            6.6    198156  \n",
       "4            5.7    177425  "
      ]
     },
     "execution_count": 8,
     "metadata": {},
     "output_type": "execute_result"
    }
   ],
   "source": [
    "# DF I need for Question 3\n",
    "\n",
    "df2 = pd.merge(df4, df3, left_on = 'imdb_id', right_on = 'tconst')\n",
    "\n",
    "df2.head()"
   ]
  },
  {
   "cell_type": "code",
   "execution_count": 9,
   "id": "15b69013",
   "metadata": {},
   "outputs": [
    {
     "data": {
      "text/plain": [
       "imdb_id              0\n",
       "revenue              4\n",
       "budget               0\n",
       "certification    13538\n",
       "tconst               0\n",
       "averageRating        0\n",
       "numVotes             0\n",
       "dtype: int64"
      ]
     },
     "execution_count": 9,
     "metadata": {},
     "output_type": "execute_result"
    }
   ],
   "source": [
    "df2.isna().sum()"
   ]
  },
  {
   "cell_type": "code",
   "execution_count": 10,
   "id": "ff603c74",
   "metadata": {},
   "outputs": [
    {
     "name": "stdout",
     "output_type": "stream",
     "text": [
      "<class 'pandas.core.frame.DataFrame'>\n",
      "Int64Index: 3093 entries, 1 to 16620\n",
      "Data columns (total 7 columns):\n",
      " #   Column         Non-Null Count  Dtype  \n",
      "---  ------         --------------  -----  \n",
      " 0   imdb_id        3093 non-null   object \n",
      " 1   revenue        3093 non-null   float64\n",
      " 2   budget         3093 non-null   object \n",
      " 3   certification  3093 non-null   object \n",
      " 4   tconst         3093 non-null   object \n",
      " 5   averageRating  3093 non-null   float64\n",
      " 6   numVotes       3093 non-null   int64  \n",
      "dtypes: float64(2), int64(1), object(4)\n",
      "memory usage: 193.3+ KB\n"
     ]
    }
   ],
   "source": [
    "df2 = df2.dropna()\n",
    "df2.info()"
   ]
  },
  {
   "cell_type": "code",
   "execution_count": 11,
   "id": "fc86b110",
   "metadata": {},
   "outputs": [],
   "source": [
    "# Bins for ratings for question 3\n",
    "\n",
    "bins = [0, 3, 5.5, 8,np.inf]\n",
    "names = np.array(['<3', '3-5.5', '5.5-8', '8-10'])\n",
    "df2['rate_cat'] = names[np.searchsorted(bins, df2['averageRating'])-1]"
   ]
  },
  {
   "cell_type": "markdown",
   "id": "9db5a85d",
   "metadata": {},
   "source": [
    "## Clean out certification column"
   ]
  },
  {
   "cell_type": "code",
   "execution_count": 12,
   "id": "c074019c",
   "metadata": {},
   "outputs": [
    {
     "name": "stdout",
     "output_type": "stream",
     "text": [
      "<class 'pandas.core.frame.DataFrame'>\n",
      "Int64Index: 430 entries, 1 to 628\n",
      "Data columns (total 4 columns):\n",
      " #   Column         Non-Null Count  Dtype  \n",
      "---  ------         --------------  -----  \n",
      " 0   imdb_id        430 non-null    object \n",
      " 1   revenue        430 non-null    float64\n",
      " 2   budget         430 non-null    float64\n",
      " 3   certification  430 non-null    object \n",
      "dtypes: float64(2), object(2)\n",
      "memory usage: 16.8+ KB\n"
     ]
    }
   ],
   "source": [
    "# Drop NaN certification\n",
    "\n",
    "df = df.dropna()\n",
    "df.info()"
   ]
  },
  {
   "cell_type": "code",
   "execution_count": 13,
   "id": "d664157d",
   "metadata": {},
   "outputs": [
    {
     "name": "stdout",
     "output_type": "stream",
     "text": [
      "<class 'pandas.core.frame.DataFrame'>\n",
      "Int64Index: 3196 entries, 2 to 4662\n",
      "Data columns (total 4 columns):\n",
      " #   Column         Non-Null Count  Dtype  \n",
      "---  ------         --------------  -----  \n",
      " 0   imdb_id        3196 non-null   object \n",
      " 1   revenue        3196 non-null   float64\n",
      " 2   budget         3196 non-null   object \n",
      " 3   certification  3196 non-null   object \n",
      "dtypes: float64(1), object(3)\n",
      "memory usage: 124.8+ KB\n"
     ]
    }
   ],
   "source": [
    "# Drop NaN certification\n",
    "\n",
    "df4 = df4.dropna()\n",
    "df4.info()"
   ]
  },
  {
   "cell_type": "code",
   "execution_count": 14,
   "id": "c57f6d0b",
   "metadata": {},
   "outputs": [],
   "source": [
    "# Make budget a float\n",
    "\n",
    "df4['budget'] = df4['budget'].astype('float')"
   ]
  },
  {
   "cell_type": "code",
   "execution_count": 15,
   "id": "2954048b",
   "metadata": {},
   "outputs": [],
   "source": [
    "# Filter out NR\n",
    "\n",
    "nr = df['certification'] != 'NR'\n",
    "df = df[nr]\n"
   ]
  },
  {
   "cell_type": "code",
   "execution_count": 16,
   "id": "31577e7b",
   "metadata": {},
   "outputs": [],
   "source": [
    "# Filter out NR\n",
    "\n",
    "nr4 = df4['certification'] != ('NR' and 'NC-17')\n",
    "df4 = df4[nr4]"
   ]
  },
  {
   "cell_type": "markdown",
   "id": "0ba39b1b",
   "metadata": {},
   "source": [
    "## Hypothesis Test # 1\n",
    "    - Does the MPAA rating of a movie (G/PG/PG-13/R) affect how much revenue the movie generates?"
   ]
  },
  {
   "cell_type": "markdown",
   "id": "95705e29",
   "metadata": {},
   "source": [
    "### Null Hypothesis and Alternate Hypothesis"
   ]
  },
  {
   "cell_type": "markdown",
   "id": "7bf630ba",
   "metadata": {},
   "source": [
    "- Null Hypothesis: Ratings have the same revenue.\n",
    "\n",
    "- Alternate Hypothesis: Ratings have different revenues.\n",
    "\n",
    "- alpha = .05"
   ]
  },
  {
   "cell_type": "code",
   "execution_count": 17,
   "id": "c85efdc4",
   "metadata": {},
   "outputs": [
    {
     "data": {
      "text/plain": [
       "dict_keys(['PG', 'R', 'G', 'PG-13'])"
      ]
     },
     "execution_count": 17,
     "metadata": {},
     "output_type": "execute_result"
    }
   ],
   "source": [
    "# Create groups dictionary. \n",
    "\n",
    "groups = {}\n",
    "## Loop through all unique categories\n",
    "\n",
    "for i in df['certification'].unique():\n",
    "    ## Get series for group and rename\n",
    "    data = df.loc[df['certification']==i,'revenue'].copy()\n",
    "    \n",
    "    # save into the dictionary\n",
    "    groups[i] = data\n",
    "groups.keys()"
   ]
  },
  {
   "cell_type": "markdown",
   "id": "dfbc5905",
   "metadata": {},
   "source": [
    "### Normal Test"
   ]
  },
  {
   "cell_type": "code",
   "execution_count": 18,
   "id": "e4152202",
   "metadata": {},
   "outputs": [
    {
     "name": "stderr",
     "output_type": "stream",
     "text": [
      "/Users/robertyonce/anaconda3/envs/dojo-env/lib/python3.9/site-packages/scipy/stats/_stats_py.py:1772: UserWarning: kurtosistest only valid for n>=20 ... continuing anyway, n=15\n",
      "  warnings.warn(\"kurtosistest only valid for n>=20 ... continuing \"\n"
     ]
    },
    {
     "data": {
      "text/html": [
       "<div>\n",
       "<style scoped>\n",
       "    .dataframe tbody tr th:only-of-type {\n",
       "        vertical-align: middle;\n",
       "    }\n",
       "\n",
       "    .dataframe tbody tr th {\n",
       "        vertical-align: top;\n",
       "    }\n",
       "\n",
       "    .dataframe thead th {\n",
       "        text-align: right;\n",
       "    }\n",
       "</style>\n",
       "<table border=\"1\" class=\"dataframe\">\n",
       "  <thead>\n",
       "    <tr style=\"text-align: right;\">\n",
       "      <th></th>\n",
       "      <th>n</th>\n",
       "      <th>p</th>\n",
       "      <th>test stat</th>\n",
       "    </tr>\n",
       "  </thead>\n",
       "  <tbody>\n",
       "    <tr>\n",
       "      <th>PG</th>\n",
       "      <td>35.0</td>\n",
       "      <td>4.205459e-11</td>\n",
       "      <td>47.784105</td>\n",
       "    </tr>\n",
       "    <tr>\n",
       "      <th>R</th>\n",
       "      <td>232.0</td>\n",
       "      <td>8.450537e-42</td>\n",
       "      <td>189.148688</td>\n",
       "    </tr>\n",
       "    <tr>\n",
       "      <th>G</th>\n",
       "      <td>15.0</td>\n",
       "      <td>6.895335e-06</td>\n",
       "      <td>23.769331</td>\n",
       "    </tr>\n",
       "    <tr>\n",
       "      <th>PG-13</th>\n",
       "      <td>131.0</td>\n",
       "      <td>4.474506e-20</td>\n",
       "      <td>89.106612</td>\n",
       "    </tr>\n",
       "  </tbody>\n",
       "</table>\n",
       "</div>"
      ],
      "text/plain": [
       "           n             p   test stat\n",
       "PG      35.0  4.205459e-11   47.784105\n",
       "R      232.0  8.450537e-42  189.148688\n",
       "G       15.0  6.895335e-06   23.769331\n",
       "PG-13  131.0  4.474506e-20   89.106612"
      ]
     },
     "execution_count": 18,
     "metadata": {},
     "output_type": "execute_result"
    }
   ],
   "source": [
    "# Running normal test on each group and to see if there are >15 in each group\n",
    "\n",
    "norm_results = {}\n",
    "for i, data in groups.items():\n",
    "    stat, p = stats.normaltest(data)\n",
    "    ## save the p val, test statistic, and the size of the group\n",
    "    norm_results[i] = {'n': len(data),\n",
    "                             'p':p,\n",
    "                             'test stat':stat,}\n",
    "## convert to a dataframe\n",
    "norm_results_df = pd.DataFrame(norm_results).T\n",
    "norm_results_df"
   ]
  },
  {
   "cell_type": "markdown",
   "id": "d2732186",
   "metadata": {},
   "source": [
    "- Since there are more than 15, we can ignore the normality test"
   ]
  },
  {
   "cell_type": "markdown",
   "id": "c383feb8",
   "metadata": {},
   "source": [
    "### Variance Test"
   ]
  },
  {
   "cell_type": "code",
   "execution_count": 19,
   "id": "1d47742b",
   "metadata": {},
   "outputs": [
    {
     "data": {
      "text/plain": [
       "LeveneResult(statistic=10.516454385916681, pvalue=1.1213059640345886e-06)"
      ]
     },
     "execution_count": 19,
     "metadata": {},
     "output_type": "execute_result"
    }
   ],
   "source": [
    "# With the * operator for variance test \n",
    "\n",
    "stats.levene(*groups.values())"
   ]
  },
  {
   "cell_type": "markdown",
   "id": "a7bb732c",
   "metadata": {},
   "source": [
    "- We did not meet the variance test"
   ]
  },
  {
   "cell_type": "markdown",
   "id": "d196a1ce",
   "metadata": {},
   "source": [
    "### Hypothesis Test"
   ]
  },
  {
   "cell_type": "code",
   "execution_count": 20,
   "id": "387d0cfb",
   "metadata": {},
   "outputs": [
    {
     "data": {
      "text/plain": [
       "KruskalResult(statistic=68.99029217761759, pvalue=7.021759983704768e-15)"
      ]
     },
     "execution_count": 20,
     "metadata": {},
     "output_type": "execute_result"
    }
   ],
   "source": [
    "# perform the correct hypothesis test\n",
    "\n",
    "result = stats.kruskal( *groups.values())\n",
    "result"
   ]
  },
  {
   "cell_type": "markdown",
   "id": "5ef9689f",
   "metadata": {},
   "source": [
    "### Interpret your p-value and reject or fail to reject your null hypothesis "
   ]
  },
  {
   "cell_type": "markdown",
   "id": "04832df7",
   "metadata": {},
   "source": [
    "- The p-value is lower so we can reject the null hypothesis"
   ]
  },
  {
   "cell_type": "markdown",
   "id": "2c367d5b",
   "metadata": {},
   "source": [
    "### Visual"
   ]
  },
  {
   "cell_type": "code",
   "execution_count": 21,
   "id": "a3b0352a",
   "metadata": {},
   "outputs": [
    {
     "data": {
      "image/png": "[encoded data removed]",
      "text/plain": [
       "<Figure size 640x480 with 1 Axes>"
      ]
     },
     "metadata": {},
     "output_type": "display_data"
    }
   ],
   "source": [
    "ax = sns.barplot(data=df, x='certification',y= 'revenue', errorbar = None)\n",
    "ax.set_title('Revenue per Rating')\n",
    "ax.set_xlabel('Rating')\n",
    "ax.set_ylabel('Revenue');"
   ]
  },
  {
   "cell_type": "markdown",
   "id": "30e5787f",
   "metadata": {},
   "source": [
    "## Hypothesis Test # 2\n",
    "\n",
    "    - Does the MPAA rating of a movie (G/PG/PG-13/R) affect how much budget is for the movie? (Years 2018-21) "
   ]
  },
  {
   "cell_type": "markdown",
   "id": "e1628a50",
   "metadata": {},
   "source": [
    "### Null Hypothesis and Alternate Hypothesis"
   ]
  },
  {
   "cell_type": "markdown",
   "id": "0b1bb968",
   "metadata": {},
   "source": [
    "- Null Hypothesis: Ratings have the same budget.\n",
    "\n",
    "- Alternate Hypothesis: Ratings have different budgets.\n",
    "\n",
    "- alpha = .05"
   ]
  },
  {
   "cell_type": "code",
   "execution_count": 22,
   "id": "9c77f330",
   "metadata": {},
   "outputs": [
    {
     "data": {
      "text/plain": [
       "dict_keys(['R', 'PG-13', 'NR', 'PG', 'G'])"
      ]
     },
     "execution_count": 22,
     "metadata": {},
     "output_type": "execute_result"
    }
   ],
   "source": [
    "# Create groups dictionary. \n",
    "\n",
    "groups4 = {}\n",
    "## Loop through all unique categories\n",
    "\n",
    "for i in df4['certification'].unique():\n",
    "    ## Get series for group and rename\n",
    "    data4 = df4.loc[df4['certification']==i,'budget'].copy()\n",
    "    \n",
    "    # save into the dictionary\n",
    "    groups4[i] = data4\n",
    "groups4.keys()"
   ]
  },
  {
   "cell_type": "markdown",
   "id": "17fafbea",
   "metadata": {},
   "source": [
    "### Normal Test"
   ]
  },
  {
   "cell_type": "code",
   "execution_count": 23,
   "id": "c45cbdbb",
   "metadata": {},
   "outputs": [
    {
     "data": {
      "text/html": [
       "<div>\n",
       "<style scoped>\n",
       "    .dataframe tbody tr th:only-of-type {\n",
       "        vertical-align: middle;\n",
       "    }\n",
       "\n",
       "    .dataframe tbody tr th {\n",
       "        vertical-align: top;\n",
       "    }\n",
       "\n",
       "    .dataframe thead th {\n",
       "        text-align: right;\n",
       "    }\n",
       "</style>\n",
       "<table border=\"1\" class=\"dataframe\">\n",
       "  <thead>\n",
       "    <tr style=\"text-align: right;\">\n",
       "      <th></th>\n",
       "      <th>n</th>\n",
       "      <th>p</th>\n",
       "      <th>test stat</th>\n",
       "    </tr>\n",
       "  </thead>\n",
       "  <tbody>\n",
       "    <tr>\n",
       "      <th>R</th>\n",
       "      <td>1154.0</td>\n",
       "      <td>0.000000e+00</td>\n",
       "      <td>2142.215840</td>\n",
       "    </tr>\n",
       "    <tr>\n",
       "      <th>PG-13</th>\n",
       "      <td>599.0</td>\n",
       "      <td>5.118315e-94</td>\n",
       "      <td>429.620347</td>\n",
       "    </tr>\n",
       "    <tr>\n",
       "      <th>NR</th>\n",
       "      <td>992.0</td>\n",
       "      <td>0.000000e+00</td>\n",
       "      <td>1894.204873</td>\n",
       "    </tr>\n",
       "    <tr>\n",
       "      <th>PG</th>\n",
       "      <td>311.0</td>\n",
       "      <td>6.537180e-44</td>\n",
       "      <td>198.872476</td>\n",
       "    </tr>\n",
       "    <tr>\n",
       "      <th>G</th>\n",
       "      <td>102.0</td>\n",
       "      <td>3.908702e-47</td>\n",
       "      <td>213.716588</td>\n",
       "    </tr>\n",
       "  </tbody>\n",
       "</table>\n",
       "</div>"
      ],
      "text/plain": [
       "            n             p    test stat\n",
       "R      1154.0  0.000000e+00  2142.215840\n",
       "PG-13   599.0  5.118315e-94   429.620347\n",
       "NR      992.0  0.000000e+00  1894.204873\n",
       "PG      311.0  6.537180e-44   198.872476\n",
       "G       102.0  3.908702e-47   213.716588"
      ]
     },
     "execution_count": 23,
     "metadata": {},
     "output_type": "execute_result"
    }
   ],
   "source": [
    "# Running normal test on each group and to see if there are >15 in each group\n",
    "\n",
    "norm_results4 = {}\n",
    "for i, data4 in groups4.items():\n",
    "    stat, p = stats.normaltest(data4)\n",
    "    ## save the p val, test statistic, and the size of the group\n",
    "    norm_results4[i] = {'n': len(data4),\n",
    "                             'p':p,\n",
    "                             'test stat':stat,}\n",
    "## convert to a dataframe\n",
    "norm_results4_df = pd.DataFrame(norm_results4).T\n",
    "norm_results4_df"
   ]
  },
  {
   "cell_type": "markdown",
   "id": "210d9e9e",
   "metadata": {},
   "source": [
    "- Since there are more than 15, we can ignore the normality test"
   ]
  },
  {
   "cell_type": "markdown",
   "id": "1504d530",
   "metadata": {},
   "source": [
    "### Variance Test"
   ]
  },
  {
   "cell_type": "code",
   "execution_count": 24,
   "id": "078efb67",
   "metadata": {},
   "outputs": [
    {
     "data": {
      "text/plain": [
       "LeveneResult(statistic=50.829923613531655, pvalue=1.58251484025079e-41)"
      ]
     },
     "execution_count": 24,
     "metadata": {},
     "output_type": "execute_result"
    }
   ],
   "source": [
    "# With the * operator for variance test \n",
    "\n",
    "stats.levene(*groups4.values())"
   ]
  },
  {
   "cell_type": "markdown",
   "id": "088b5166",
   "metadata": {},
   "source": [
    "- We did not meet the variance test"
   ]
  },
  {
   "cell_type": "markdown",
   "id": "f2cc6c25",
   "metadata": {},
   "source": [
    "### Hypothesis Test"
   ]
  },
  {
   "cell_type": "code",
   "execution_count": 30,
   "id": "0aaed733",
   "metadata": {},
   "outputs": [
    {
     "data": {
      "text/plain": [
       "KruskalResult(statistic=146.22833250574084, pvalue=1.308646279495321e-30)"
      ]
     },
     "execution_count": 30,
     "metadata": {},
     "output_type": "execute_result"
    }
   ],
   "source": [
    "# perform the correct hypothesis test\n",
    "\n",
    "result = stats.kruskal( *groups4.values())\n",
    "result"
   ]
  },
  {
   "cell_type": "markdown",
   "id": "5328a174",
   "metadata": {},
   "source": [
    "### Interpret your p-value and reject or fail to reject your null hypothesis "
   ]
  },
  {
   "cell_type": "markdown",
   "id": "96c7596a",
   "metadata": {},
   "source": [
    "- The p-value is lower so we can reject the null hypothesis"
   ]
  },
  {
   "cell_type": "markdown",
   "id": "5839a898",
   "metadata": {},
   "source": [
    "### Visual"
   ]
  },
  {
   "cell_type": "code",
   "execution_count": 26,
   "id": "ea74cc3a",
   "metadata": {},
   "outputs": [
    {
     "data": {
      "image/png": "[encoded data removed]",
      "text/plain": [
       "<Figure size 640x480 with 1 Axes>"
      ]
     },
     "metadata": {},
     "output_type": "display_data"
    }
   ],
   "source": [
    "ax = sns.barplot(data=df4, x='certification',y= 'budget', errorbar = None)\n",
    "ax.set_title('Budget per Rating ')\n",
    "ax.set_xlabel('Rating')\n",
    "ax.set_ylabel('Budget');"
   ]
  },
  {
   "cell_type": "markdown",
   "id": "6c70c10d",
   "metadata": {},
   "source": [
    "## Hypothesis Test # 3\n",
    "\n",
    "    - Does the average rating affect the revenue for a movie?"
   ]
  },
  {
   "cell_type": "markdown",
   "id": "0f0aa71f",
   "metadata": {},
   "source": [
    "### Null Hypothesis and Alternate Hypothesis"
   ]
  },
  {
   "cell_type": "markdown",
   "id": "abb70dd7",
   "metadata": {},
   "source": [
    "- Null Hypothesis: The average rating does not impact the revenue for a movie.\n",
    "\n",
    "- Alternate Hypothesis: The average rating does impact the revenue for a movie.\n",
    "\n",
    "- alpha = .05"
   ]
  },
  {
   "cell_type": "code",
   "execution_count": 27,
   "id": "2aa8d0ba",
   "metadata": {},
   "outputs": [
    {
     "data": {
      "text/plain": [
       "dict_keys(['5.5-8', '3-5.5', '8-10', '<3'])"
      ]
     },
     "execution_count": 27,
     "metadata": {},
     "output_type": "execute_result"
    }
   ],
   "source": [
    "# Create groups dictionary. \n",
    "\n",
    "groups2 = {}\n",
    "## Loop through all unique categories\n",
    "\n",
    "for i in df2['rate_cat'].unique():\n",
    "    ## Get series for group and rename\n",
    "    data2 = df2.loc[df2['rate_cat']==i,'revenue'].copy()\n",
    "    \n",
    "    # save into the dictionary\n",
    "    groups2[i] = data2\n",
    "groups2.keys()"
   ]
  },
  {
   "cell_type": "markdown",
   "id": "fa271ba2",
   "metadata": {},
   "source": [
    "### Normal Test"
   ]
  },
  {
   "cell_type": "code",
   "execution_count": 28,
   "id": "7636b417",
   "metadata": {},
   "outputs": [
    {
     "data": {
      "text/html": [
       "<div>\n",
       "<style scoped>\n",
       "    .dataframe tbody tr th:only-of-type {\n",
       "        vertical-align: middle;\n",
       "    }\n",
       "\n",
       "    .dataframe tbody tr th {\n",
       "        vertical-align: top;\n",
       "    }\n",
       "\n",
       "    .dataframe thead th {\n",
       "        text-align: right;\n",
       "    }\n",
       "</style>\n",
       "<table border=\"1\" class=\"dataframe\">\n",
       "  <thead>\n",
       "    <tr style=\"text-align: right;\">\n",
       "      <th></th>\n",
       "      <th>n</th>\n",
       "      <th>p</th>\n",
       "      <th>test stat</th>\n",
       "    </tr>\n",
       "  </thead>\n",
       "  <tbody>\n",
       "    <tr>\n",
       "      <th>5.5-8</th>\n",
       "      <td>1601.0</td>\n",
       "      <td>0.000000e+00</td>\n",
       "      <td>1944.759610</td>\n",
       "    </tr>\n",
       "    <tr>\n",
       "      <th>3-5.5</th>\n",
       "      <td>1272.0</td>\n",
       "      <td>0.000000e+00</td>\n",
       "      <td>2504.857613</td>\n",
       "    </tr>\n",
       "    <tr>\n",
       "      <th>8-10</th>\n",
       "      <td>80.0</td>\n",
       "      <td>1.012009e-23</td>\n",
       "      <td>105.895038</td>\n",
       "    </tr>\n",
       "    <tr>\n",
       "      <th>&lt;3</th>\n",
       "      <td>140.0</td>\n",
       "      <td>9.023706e-67</td>\n",
       "      <td>304.146692</td>\n",
       "    </tr>\n",
       "  </tbody>\n",
       "</table>\n",
       "</div>"
      ],
      "text/plain": [
       "            n             p    test stat\n",
       "5.5-8  1601.0  0.000000e+00  1944.759610\n",
       "3-5.5  1272.0  0.000000e+00  2504.857613\n",
       "8-10     80.0  1.012009e-23   105.895038\n",
       "<3      140.0  9.023706e-67   304.146692"
      ]
     },
     "execution_count": 28,
     "metadata": {},
     "output_type": "execute_result"
    }
   ],
   "source": [
    "# Running normal test on each group and to see if there are >15 in each group\n",
    "\n",
    "norm_results2 = {}\n",
    "for i, data2 in groups2.items():\n",
    "    stat, p = stats.normaltest(data2)\n",
    "    ## save the p val, test statistic, and the size of the group\n",
    "    norm_results2[i] = {'n': len(data2),\n",
    "                             'p':p,\n",
    "                             'test stat':stat,}\n",
    "## convert to a dataframe\n",
    "norm_results2_df = pd.DataFrame(norm_results2).T\n",
    "norm_results2_df"
   ]
  },
  {
   "cell_type": "markdown",
   "id": "6f6c25a4",
   "metadata": {},
   "source": [
    "- Since there are more than 15, we can ignore the normality test"
   ]
  },
  {
   "cell_type": "markdown",
   "id": "0f7cf365",
   "metadata": {},
   "source": [
    "### Variance Test"
   ]
  },
  {
   "cell_type": "code",
   "execution_count": 29,
   "id": "cf54130e",
   "metadata": {},
   "outputs": [
    {
     "data": {
      "text/plain": [
       "LeveneResult(statistic=35.12717078418843, pvalue=2.561985660141488e-22)"
      ]
     },
     "execution_count": 29,
     "metadata": {},
     "output_type": "execute_result"
    }
   ],
   "source": [
    "# With the * operator for variance test \n",
    "\n",
    "stats.levene(*groups2.values())"
   ]
  },
  {
   "cell_type": "markdown",
   "id": "932e3215",
   "metadata": {},
   "source": [
    "- We did not meet the variance test"
   ]
  },
  {
   "cell_type": "markdown",
   "id": "52e77df5",
   "metadata": {},
   "source": [
    "### Hypothesis Test"
   ]
  },
  {
   "cell_type": "code",
   "execution_count": 31,
   "id": "7be5a993",
   "metadata": {},
   "outputs": [
    {
     "data": {
      "text/plain": [
       "KruskalResult(statistic=247.65008689744087, pvalue=2.108965009282718e-53)"
      ]
     },
     "execution_count": 31,
     "metadata": {},
     "output_type": "execute_result"
    }
   ],
   "source": [
    "# perform the correct hypothesis test\n",
    "\n",
    "result = stats.kruskal( *groups2.values())\n",
    "result"
   ]
  },
  {
   "cell_type": "markdown",
   "id": "470feb9e",
   "metadata": {},
   "source": [
    "### Interpret your p-value and reject or fail to reject your null hypothesis "
   ]
  },
  {
   "cell_type": "markdown",
   "id": "168bea16",
   "metadata": {},
   "source": [
    "- The p-value is lower so we can reject the null hypothesis"
   ]
  },
  {
   "cell_type": "markdown",
   "id": "2ff41048",
   "metadata": {},
   "source": [
    "### Visual"
   ]
  },
  {
   "cell_type": "code",
   "execution_count": 32,
   "id": "eb09d5d3",
   "metadata": {},
   "outputs": [
    {
     "data": {
      "image/png": "[encoded data removed]",
      "text/plain": [
       "<Figure size 640x480 with 1 Axes>"
      ]
     },
     "metadata": {},
     "output_type": "display_data"
    }
   ],
   "source": [
    "ax = sns.barplot(data=df2, x='rate_cat',y= 'revenue', errorbar = None)\n",
    "ax.set_title('Revenue per Rating Category ')\n",
    "ax.set_xlabel('Rating Category')\n",
    "ax.set_ylabel('Revenue');"
   ]
  }
 ],
 "metadata": {
  "kernelspec": {
   "display_name": "Python (dojo-env)",
   "language": "python",
   "name": "dojo-env"
  },
  "language_info": {
   "codemirror_mode": {
    "name": "ipython",
    "version": 3
   },
   "file_extension": ".py",
   "mimetype": "text/x-python",
   "name": "python",
   "nbconvert_exporter": "python",
   "pygments_lexer": "ipython3",
   "version": "3.9.15"
  },
  "toc": {
   "base_numbering": 1,
   "nav_menu": {},
   "number_sections": false,
   "sideBar": true,
   "skip_h1_title": false,
   "title_cell": "Table of Contents",
   "title_sidebar": "Contents",
   "toc_cell": false,
   "toc_position": {
    "height": "calc(100% - 180px)",
    "left": "10px",
    "top": "150px",
    "width": "221px"
   },
   "toc_section_display": true,
   "toc_window_display": true
  }
 },
 "nbformat": 4,
 "nbformat_minor": 5
}
